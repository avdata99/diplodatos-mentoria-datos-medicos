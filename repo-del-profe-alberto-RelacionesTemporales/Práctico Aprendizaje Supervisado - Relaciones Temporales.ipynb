{
 "cells": [
  {
   "cell_type": "markdown",
   "metadata": {},
   "source": [
    "# Extracción de Relaciones Temporales en Textos Médicos"
   ]
  },
  {
   "cell_type": "markdown",
   "metadata": {},
   "source": [
    "### Recorrido por los datos\n",
    "Vamos a trabajar primero explorando los datos de ejemplo que se proveen con el challenge.\n",
    "Para eso hacemos uso de la función lift_data(), que extrae anotaciones de relaciones y las combina en una lista junto con el texto original."
   ]
  },
  {
   "cell_type": "code",
   "execution_count": 11,
   "metadata": {},
   "outputs": [],
   "source": [
    "from helpers import lift_dataset\n",
    "# lift_dataset devuelve un iterador\n",
    "dataset = list(lift_dataset('SampleData'))"
   ]
  },
  {
   "cell_type": "markdown",
   "metadata": {},
   "source": [
    "Veamos algunos tipos de relaciones,"
   ]
  },
  {
   "cell_type": "code",
   "execution_count": 12,
   "metadata": {},
   "outputs": [
    {
     "data": {
      "text/plain": [
       "['EVENT=\"fluid overload\" 10:6 10:7',\n",
       " 'EVENT=\"His transfusions\" 10:0 10:1',\n",
       " 'type=\"OVERLAP\"\\n',\n",
       " 'His transfusions have been complicated by fluid overload and congestive heart failure , secondary to ischemia cardiomyopathy .\\n',\n",
       " '491.xml.tlink']"
      ]
     },
     "execution_count": 12,
     "metadata": {},
     "output_type": "execute_result"
    }
   ],
   "source": [
    "list(dataset)[10]"
   ]
  },
  {
   "cell_type": "markdown",
   "metadata": {},
   "source": [
    "Ahí tenemos dos eventos relacionados mediante la relación 'OVERLAP', y el texto original dónde aparece.\n",
    "Veamos otro caso,"
   ]
  },
  {
   "cell_type": "code",
   "execution_count": 20,
   "metadata": {},
   "outputs": [
    {
     "data": {
      "text/plain": [
       "['EVENT=\"a low hematocrit\" 13:6 13:7',\n",
       " 'EVENT=\"checked\" 13:13 13:13',\n",
       " 'type=\"BEFORE_OVERLAP\"\\n',\n",
       " 'Apparently , he had had a low hematocrit as an outpatient and was checked two weeks prior to admission but was not given transfusion because the patient did not want to come in at that time .\\n',\n",
       " '491.xml.tlink']"
      ]
     },
     "execution_count": 20,
     "metadata": {},
     "output_type": "execute_result"
    }
   ],
   "source": [
    "list(dataset)[24]"
   ]
  },
  {
   "cell_type": "markdown",
   "metadata": {},
   "source": [
    "El set completo de etiquetas se puede encontrar en __[este link.](https://www.ncbi.nlm.nih.gov/pmc/articles/PMC4237873/table/bau109-T2/?report=objectonly)__\n"
   ]
  },
  {
   "cell_type": "markdown",
   "metadata": {},
   "source": [
    "Podemos empezar intentando predecir únicamente las relaciones, esto es, asumiendo que los eventos y las expresiones temporales ya vienen dadas en el dataset de test."
   ]
  },
  {
   "cell_type": "markdown",
   "metadata": {},
   "source": [
    "### Estadísticas del dataset\n",
    "Baje el dataset completo desde la sección __[download de i2b2,](https://www.i2b2.org/NLP/DataSets/Download.php)__ intente levantarlo con el script lift_dataset. Mejore el script si es necesario. <br> Calcule algunas estadísticas, como se señalan abajo,"
   ]
  },
  {
   "cell_type": "code",
   "execution_count": null,
   "metadata": {},
   "outputs": [],
   "source": [
    "# número de elementos en el dataset (train y test)\n",
    "\n",
    "# distribución de los labels de las relaciones (train y test)"
   ]
  },
  {
   "cell_type": "markdown",
   "metadata": {},
   "source": [
    "### Extracción de Features \n",
    "Vamos a extraer features de los datos, para esto se puede utilizar cualquier técnica que crea pertinente.\n",
    "Como sugerencia se recomienda utilizar los siguientes __[embeddings médicos.](https://github.com/cambridgeltl/BioNLP-2016)__"
   ]
  },
  {
   "cell_type": "code",
   "execution_count": 33,
   "metadata": {},
   "outputs": [
    {
     "data": {
      "text/plain": [
       "[('acetylsalicylic', 0.8663716316223145),\n",
       " ('clopidogrel', 0.8215951323509216),\n",
       " ('Aspirin', 0.8209693431854248),\n",
       " ('ticlopidine', 0.7800016403198242),\n",
       " ('triflusal', 0.7581562995910645),\n",
       " ('nonaspirin', 0.7538653612136841),\n",
       " ('ibuprofen', 0.7525407671928406),\n",
       " ('acetylsalicyclic', 0.7458503842353821),\n",
       " ('indometacin', 0.7443934679031372),\n",
       " ('indobufen', 0.7369282245635986)]"
      ]
     },
     "execution_count": 33,
     "metadata": {},
     "output_type": "execute_result"
    }
   ],
   "source": [
    "from gensim.models.keyedvectors import KeyedVectors\n",
    "m = KeyedVectors.load_word2vec_format('PubMed-shuffle-win-2.bin', binary=True)\n",
    "m.most_similar('aspirin')"
   ]
  },
  {
   "cell_type": "code",
   "execution_count": 23,
   "metadata": {},
   "outputs": [
    {
     "data": {
      "text/plain": [
       "[('therapy', 0.8072333335876465),\n",
       " ('treatments', 0.7805153727531433),\n",
       " ('treatement', 0.7756835222244263),\n",
       " ('treament', 0.741487979888916),\n",
       " ('Treatment', 0.7408658266067505),\n",
       " ('treatment.', 0.6918410062789917),\n",
       " ('treating', 0.6915006637573242),\n",
       " ('pharmacotherapy', 0.6849550008773804),\n",
       " ('management', 0.6733064651489258),\n",
       " ('tratment', 0.6689903140068054)]"
      ]
     },
     "execution_count": 23,
     "metadata": {},
     "output_type": "execute_result"
    }
   ],
   "source": [
    "m.most_similar('treatment')"
   ]
  },
  {
   "cell_type": "markdown",
   "metadata": {},
   "source": [
    "Otros recursos __[aqui](http://bio.nlplab.org/)__."
   ]
  },
  {
   "cell_type": "markdown",
   "metadata": {},
   "source": [
    "### Clasificación \n",
    "En esta parte vamos a entrenar al menos dos clasificadores, y vamos a calcular métricas sobre el conjunto de test."
   ]
  },
  {
   "cell_type": "code",
   "execution_count": 25,
   "metadata": {},
   "outputs": [],
   "source": [
    "# entrenamiento\n",
    "\n",
    "# precision\n",
    "\n",
    "# recall"
   ]
  },
  {
   "cell_type": "markdown",
   "metadata": {},
   "source": [
    "### Model Ensembles \n",
    "¿Se pueden combinar los modelos anteriores para obtener alguna ventaja? Intente con alguna técnica a su elección."
   ]
  },
  {
   "cell_type": "code",
   "execution_count": 26,
   "metadata": {},
   "outputs": [],
   "source": [
    "# bagging\n",
    "\n",
    "# boosting\n",
    "\n",
    "# etc"
   ]
  },
  {
   "cell_type": "markdown",
   "metadata": {},
   "source": [
    "### Análisis de Error \n",
    "En este punto vamos a ver cómo se distribuyen los errores entre las distintas clases. Principalmente nos interesa la matriz de confusión, y propuestas sobre cómo continuar mejorando los algoritmos a la luz de la información que obtengamos."
   ]
  },
  {
   "cell_type": "code",
   "execution_count": null,
   "metadata": {},
   "outputs": [],
   "source": [
    "# error analysis"
   ]
  }
 ],
 "metadata": {
  "kernelspec": {
   "display_name": "Python 3",
   "language": "python",
   "name": "python3"
  },
  "language_info": {
   "codemirror_mode": {
    "name": "ipython",
    "version": 3
   },
   "file_extension": ".py",
   "mimetype": "text/x-python",
   "name": "python",
   "nbconvert_exporter": "python",
   "pygments_lexer": "ipython3",
   "version": "3.6.1"
  }
 },
 "nbformat": 4,
 "nbformat_minor": 2
}
