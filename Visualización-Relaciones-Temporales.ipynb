{
 "cells": [
  {
   "cell_type": "markdown",
   "metadata": {},
   "source": [
    "## Vamos a utilizar un método muy popular para visualizar representaciones vectoriales T-SNE"
   ]
  },
  {
   "cell_type": "code",
   "execution_count": 3,
   "metadata": {},
   "outputs": [
    {
     "data": {
      "text/html": [
       "        <script type=\"text/javascript\">\n",
       "        window.PlotlyConfig = {MathJaxConfig: 'local'};\n",
       "        if (window.MathJax) {MathJax.Hub.Config({SVG: {font: \"STIX-Web\"}});}\n",
       "        if (typeof require !== 'undefined') {\n",
       "        require.undef(\"plotly\");\n",
       "        requirejs.config({\n",
       "            paths: {\n",
       "                'plotly': ['https://cdn.plot.ly/plotly-latest.min']\n",
       "            }\n",
       "        });\n",
       "        require(['plotly'], function(Plotly) {\n",
       "            window._Plotly = Plotly;\n",
       "        });\n",
       "        }\n",
       "        </script>\n",
       "        "
      ]
     },
     "metadata": {},
     "output_type": "display_data"
    },
    {
     "ename": "FileNotFoundError",
     "evalue": "[Errno 2] No such file or directory: 'PubMed-shuffle-win-2.bin'",
     "output_type": "error",
     "traceback": [
      "\u001b[0;31m---------------------------------------------------------------------------\u001b[0m",
      "\u001b[0;31mFileNotFoundError\u001b[0m                         Traceback (most recent call last)",
      "\u001b[0;32m<ipython-input-3-b4eac48d85f7>\u001b[0m in \u001b[0;36m<module>\u001b[0;34m()\u001b[0m\n\u001b[1;32m      8\u001b[0m \u001b[0;34m\u001b[0m\u001b[0m\n\u001b[1;32m      9\u001b[0m \u001b[0;31m# load embeddings\u001b[0m\u001b[0;34m\u001b[0m\u001b[0;34m\u001b[0m\u001b[0;34m\u001b[0m\u001b[0m\n\u001b[0;32m---> 10\u001b[0;31m \u001b[0membeddings\u001b[0m \u001b[0;34m=\u001b[0m \u001b[0mKeyedVectors\u001b[0m\u001b[0;34m.\u001b[0m\u001b[0mload_word2vec_format\u001b[0m\u001b[0;34m(\u001b[0m\u001b[0;34m'PubMed-shuffle-win-2.bin'\u001b[0m\u001b[0;34m,\u001b[0m \u001b[0mbinary\u001b[0m\u001b[0;34m=\u001b[0m\u001b[0;32mTrue\u001b[0m\u001b[0;34m)\u001b[0m\u001b[0;34m\u001b[0m\u001b[0;34m\u001b[0m\u001b[0m\n\u001b[0m",
      "\u001b[0;32m/usr/local/lib/python3.6/dist-packages/gensim/models/keyedvectors.py\u001b[0m in \u001b[0;36mload_word2vec_format\u001b[0;34m(cls, fname, fvocab, binary, encoding, unicode_errors, limit, datatype)\u001b[0m\n\u001b[1;32m   1496\u001b[0m         return _load_word2vec_format(\n\u001b[1;32m   1497\u001b[0m             \u001b[0mcls\u001b[0m\u001b[0;34m,\u001b[0m \u001b[0mfname\u001b[0m\u001b[0;34m,\u001b[0m \u001b[0mfvocab\u001b[0m\u001b[0;34m=\u001b[0m\u001b[0mfvocab\u001b[0m\u001b[0;34m,\u001b[0m \u001b[0mbinary\u001b[0m\u001b[0;34m=\u001b[0m\u001b[0mbinary\u001b[0m\u001b[0;34m,\u001b[0m \u001b[0mencoding\u001b[0m\u001b[0;34m=\u001b[0m\u001b[0mencoding\u001b[0m\u001b[0;34m,\u001b[0m \u001b[0municode_errors\u001b[0m\u001b[0;34m=\u001b[0m\u001b[0municode_errors\u001b[0m\u001b[0;34m,\u001b[0m\u001b[0;34m\u001b[0m\u001b[0;34m\u001b[0m\u001b[0m\n\u001b[0;32m-> 1498\u001b[0;31m             limit=limit, datatype=datatype)\n\u001b[0m\u001b[1;32m   1499\u001b[0m \u001b[0;34m\u001b[0m\u001b[0m\n\u001b[1;32m   1500\u001b[0m     \u001b[0;32mdef\u001b[0m \u001b[0mget_keras_embedding\u001b[0m\u001b[0;34m(\u001b[0m\u001b[0mself\u001b[0m\u001b[0;34m,\u001b[0m \u001b[0mtrain_embeddings\u001b[0m\u001b[0;34m=\u001b[0m\u001b[0;32mFalse\u001b[0m\u001b[0;34m)\u001b[0m\u001b[0;34m:\u001b[0m\u001b[0;34m\u001b[0m\u001b[0;34m\u001b[0m\u001b[0m\n",
      "\u001b[0;32m/usr/local/lib/python3.6/dist-packages/gensim/models/utils_any2vec.py\u001b[0m in \u001b[0;36m_load_word2vec_format\u001b[0;34m(cls, fname, fvocab, binary, encoding, unicode_errors, limit, datatype)\u001b[0m\n\u001b[1;32m    340\u001b[0m \u001b[0;34m\u001b[0m\u001b[0m\n\u001b[1;32m    341\u001b[0m     \u001b[0mlogger\u001b[0m\u001b[0;34m.\u001b[0m\u001b[0minfo\u001b[0m\u001b[0;34m(\u001b[0m\u001b[0;34m\"loading projection weights from %s\"\u001b[0m\u001b[0;34m,\u001b[0m \u001b[0mfname\u001b[0m\u001b[0;34m)\u001b[0m\u001b[0;34m\u001b[0m\u001b[0;34m\u001b[0m\u001b[0m\n\u001b[0;32m--> 342\u001b[0;31m     \u001b[0;32mwith\u001b[0m \u001b[0mutils\u001b[0m\u001b[0;34m.\u001b[0m\u001b[0mopen\u001b[0m\u001b[0;34m(\u001b[0m\u001b[0mfname\u001b[0m\u001b[0;34m,\u001b[0m \u001b[0;34m'rb'\u001b[0m\u001b[0;34m)\u001b[0m \u001b[0;32mas\u001b[0m \u001b[0mfin\u001b[0m\u001b[0;34m:\u001b[0m\u001b[0;34m\u001b[0m\u001b[0;34m\u001b[0m\u001b[0m\n\u001b[0m\u001b[1;32m    343\u001b[0m         \u001b[0mheader\u001b[0m \u001b[0;34m=\u001b[0m \u001b[0mutils\u001b[0m\u001b[0;34m.\u001b[0m\u001b[0mto_unicode\u001b[0m\u001b[0;34m(\u001b[0m\u001b[0mfin\u001b[0m\u001b[0;34m.\u001b[0m\u001b[0mreadline\u001b[0m\u001b[0;34m(\u001b[0m\u001b[0;34m)\u001b[0m\u001b[0;34m,\u001b[0m \u001b[0mencoding\u001b[0m\u001b[0;34m=\u001b[0m\u001b[0mencoding\u001b[0m\u001b[0;34m)\u001b[0m\u001b[0;34m\u001b[0m\u001b[0;34m\u001b[0m\u001b[0m\n\u001b[1;32m    344\u001b[0m         \u001b[0mvocab_size\u001b[0m\u001b[0;34m,\u001b[0m \u001b[0mvector_size\u001b[0m \u001b[0;34m=\u001b[0m \u001b[0;34m(\u001b[0m\u001b[0mint\u001b[0m\u001b[0;34m(\u001b[0m\u001b[0mx\u001b[0m\u001b[0;34m)\u001b[0m \u001b[0;32mfor\u001b[0m \u001b[0mx\u001b[0m \u001b[0;32min\u001b[0m \u001b[0mheader\u001b[0m\u001b[0;34m.\u001b[0m\u001b[0msplit\u001b[0m\u001b[0;34m(\u001b[0m\u001b[0;34m)\u001b[0m\u001b[0;34m)\u001b[0m  \u001b[0;31m# throws for invalid file format\u001b[0m\u001b[0;34m\u001b[0m\u001b[0;34m\u001b[0m\u001b[0m\n",
      "\u001b[0;32m/usr/local/lib/python3.6/dist-packages/smart_open/smart_open_lib.py\u001b[0m in \u001b[0;36mopen\u001b[0;34m(uri, mode, buffering, encoding, errors, newline, closefd, opener, ignore_ext, transport_params)\u001b[0m\n\u001b[1;32m    305\u001b[0m         \u001b[0mbuffering\u001b[0m\u001b[0;34m=\u001b[0m\u001b[0mbuffering\u001b[0m\u001b[0;34m,\u001b[0m\u001b[0;34m\u001b[0m\u001b[0;34m\u001b[0m\u001b[0m\n\u001b[1;32m    306\u001b[0m         \u001b[0mencoding\u001b[0m\u001b[0;34m=\u001b[0m\u001b[0mencoding\u001b[0m\u001b[0;34m,\u001b[0m\u001b[0;34m\u001b[0m\u001b[0;34m\u001b[0m\u001b[0m\n\u001b[0;32m--> 307\u001b[0;31m         \u001b[0merrors\u001b[0m\u001b[0;34m=\u001b[0m\u001b[0merrors\u001b[0m\u001b[0;34m,\u001b[0m\u001b[0;34m\u001b[0m\u001b[0;34m\u001b[0m\u001b[0m\n\u001b[0m\u001b[1;32m    308\u001b[0m     )\n\u001b[1;32m    309\u001b[0m     \u001b[0;32mif\u001b[0m \u001b[0mfobj\u001b[0m \u001b[0;32mis\u001b[0m \u001b[0;32mnot\u001b[0m \u001b[0;32mNone\u001b[0m\u001b[0;34m:\u001b[0m\u001b[0;34m\u001b[0m\u001b[0;34m\u001b[0m\u001b[0m\n",
      "\u001b[0;32m/usr/local/lib/python3.6/dist-packages/smart_open/smart_open_lib.py\u001b[0m in \u001b[0;36m_shortcut_open\u001b[0;34m(uri, mode, ignore_ext, buffering, encoding, errors)\u001b[0m\n\u001b[1;32m    510\u001b[0m     \u001b[0;31m#\u001b[0m\u001b[0;34m\u001b[0m\u001b[0;34m\u001b[0m\u001b[0;34m\u001b[0m\u001b[0m\n\u001b[1;32m    511\u001b[0m     \u001b[0;32mif\u001b[0m \u001b[0msix\u001b[0m\u001b[0;34m.\u001b[0m\u001b[0mPY3\u001b[0m\u001b[0;34m:\u001b[0m\u001b[0;34m\u001b[0m\u001b[0;34m\u001b[0m\u001b[0m\n\u001b[0;32m--> 512\u001b[0;31m         \u001b[0;32mreturn\u001b[0m \u001b[0m_builtin_open\u001b[0m\u001b[0;34m(\u001b[0m\u001b[0mparsed_uri\u001b[0m\u001b[0;34m.\u001b[0m\u001b[0muri_path\u001b[0m\u001b[0;34m,\u001b[0m \u001b[0mmode\u001b[0m\u001b[0;34m,\u001b[0m \u001b[0mbuffering\u001b[0m\u001b[0;34m=\u001b[0m\u001b[0mbuffering\u001b[0m\u001b[0;34m,\u001b[0m \u001b[0;34m**\u001b[0m\u001b[0mopen_kwargs\u001b[0m\u001b[0;34m)\u001b[0m\u001b[0;34m\u001b[0m\u001b[0;34m\u001b[0m\u001b[0m\n\u001b[0m\u001b[1;32m    513\u001b[0m     \u001b[0;32melif\u001b[0m \u001b[0;32mnot\u001b[0m \u001b[0mopen_kwargs\u001b[0m\u001b[0;34m:\u001b[0m\u001b[0;34m\u001b[0m\u001b[0;34m\u001b[0m\u001b[0m\n\u001b[1;32m    514\u001b[0m         \u001b[0;32mreturn\u001b[0m \u001b[0m_builtin_open\u001b[0m\u001b[0;34m(\u001b[0m\u001b[0mparsed_uri\u001b[0m\u001b[0;34m.\u001b[0m\u001b[0muri_path\u001b[0m\u001b[0;34m,\u001b[0m \u001b[0mmode\u001b[0m\u001b[0;34m,\u001b[0m \u001b[0mbuffering\u001b[0m\u001b[0;34m=\u001b[0m\u001b[0mbuffering\u001b[0m\u001b[0;34m)\u001b[0m\u001b[0;34m\u001b[0m\u001b[0;34m\u001b[0m\u001b[0m\n",
      "\u001b[0;31mFileNotFoundError\u001b[0m: [Errno 2] No such file or directory: 'PubMed-shuffle-win-2.bin'"
     ]
    }
   ],
   "source": [
    "import numpy as np\n",
    "from sklearn.manifold import TSNE\n",
    "import plotly.offline as plt\n",
    "import plotly.graph_objs as go\n",
    "import pickle\n",
    "from gensim.models.keyedvectors import KeyedVectors\n",
    "plt.init_notebook_mode(connected=True)\n",
    "\n",
    "\"\"\"\n",
    "Requiere que se descarge _PubMed-shuffle-win-2.bin_ que debe ser muy pesado y posiblemente pueda bajarse [acá](https://github.com/OSU-slatelab/BMASS/tree/master/data/embeddings).  \n",
    "Al parecer están aquí:\n",
    "https://github.com/cambridgeltl/BioNLP-2016/blob/b629f7417c3ed5c027368f07acca69bc37de4687/README.md#L5\n",
    "\"\"\" \n",
    "# load embeddings\n",
    "embeddings = KeyedVectors.load_word2vec_format('PubMed-shuffle-win-2.bin', binary=True)\n"
   ]
  },
  {
   "cell_type": "code",
   "execution_count": 7,
   "metadata": {},
   "outputs": [
    {
     "data": {
      "application/vnd.plotly.v1+json": {
       "config": {
        "linkText": "Export to plot.ly",
        "plotlyServerURL": "https://plot.ly",
        "responsive": true,
        "showLink": false
       },
       "data": [
        {
         "hoverinfo": "text",
         "marker": {
          "color": "rgb(12, 12, 12)",
          "line": {
           "color": "rgba(217, 217, 217, 0.14)",
           "width": 1
          },
          "opacity": 0.9,
          "size": 12,
          "symbol": "circle"
         },
         "mode": "markers+text",
         "text": [
          "pantoprazole",
          "atorvastatin",
          "albuterol",
          "melatonin"
         ],
         "textposition": "bottom center",
         "type": "scatter3d",
         "uid": "ad3d0387-5daf-4263-9776-80e58d71a74a",
         "x": [
          0.00017632819071877748,
          0.00022407807409763336,
          9.497677820036188e-05,
          4.10992834076751e-05
         ],
         "y": [
          3.9537593693239614e-05,
          0.0001866289385361597,
          -1.5101101780601311e-05,
          1.4332463251776062e-05
         ],
         "z": [
          9.772706107469276e-05,
          -9.77418094407767e-05,
          -1.0073835255752783e-05,
          0.00014531685155816376
         ]
        },
        {
         "hoverinfo": "text",
         "marker": {
          "color": "rgb(180, 180, 180)",
          "line": {
           "color": "rgba(217, 217, 217, 0.14)",
           "width": 1
          },
          "opacity": 0.9,
          "size": 12,
          "symbol": "circle"
         },
         "mode": "markers+text",
         "text": [
          "inflammation",
          "hypertrophy",
          "dysfunction",
          "paresthesia"
         ],
         "textposition": "bottom center",
         "type": "scatter3d",
         "uid": "a6fcaed4-2916-4ec8-959e-b340e1d857d0",
         "x": [
          7.603746780660003e-05,
          3.334069697302766e-05,
          3.137896419502795e-05,
          6.538569141412154e-05
         ],
         "y": [
          1.2155987860751338e-05,
          0.0001493194286013022,
          -8.522590360371396e-05,
          8.659398736199364e-05
         ],
         "z": [
          4.432130663190037e-05,
          -2.063085230474826e-05,
          -0.0002546618052292615,
          -7.427575474139303e-05
         ]
        }
       ],
       "layout": {
        "title": {
         "text": "Meds & Diagnoses"
        }
       }
      },
      "text/html": [
       "<div>\n",
       "        \n",
       "        \n",
       "            <div id=\"f98abf14-7cc7-4cb4-82f7-83cd955ee000\" class=\"plotly-graph-div\" style=\"height:525px; width:100%;\"></div>\n",
       "            <script type=\"text/javascript\">\n",
       "                require([\"plotly\"], function(Plotly) {\n",
       "                    window.PLOTLYENV=window.PLOTLYENV || {};\n",
       "                    window.PLOTLYENV.BASE_URL='https://plot.ly';\n",
       "                    \n",
       "                if (document.getElementById(\"f98abf14-7cc7-4cb4-82f7-83cd955ee000\")) {\n",
       "                    Plotly.newPlot(\n",
       "                        'f98abf14-7cc7-4cb4-82f7-83cd955ee000',\n",
       "                        [{\"hoverinfo\": \"text\", \"marker\": {\"color\": \"rgb(12, 12, 12)\", \"line\": {\"color\": \"rgba(217, 217, 217, 0.14)\", \"width\": 1}, \"opacity\": 0.9, \"size\": 12, \"symbol\": \"circle\"}, \"mode\": \"markers+text\", \"text\": [\"pantoprazole\", \"atorvastatin\", \"albuterol\", \"melatonin\"], \"textposition\": \"bottom center\", \"type\": \"scatter3d\", \"uid\": \"46fe4441-8731-43bd-bb62-2a0da0601a71\", \"x\": [0.00017632819071877748, 0.00022407807409763336, 9.497677820036188e-05, 4.10992834076751e-05], \"y\": [3.9537593693239614e-05, 0.0001866289385361597, -1.5101101780601311e-05, 1.4332463251776062e-05], \"z\": [9.772706107469276e-05, -9.77418094407767e-05, -1.0073835255752783e-05, 0.00014531685155816376]}, {\"hoverinfo\": \"text\", \"marker\": {\"color\": \"rgb(180, 180, 180)\", \"line\": {\"color\": \"rgba(217, 217, 217, 0.14)\", \"width\": 1}, \"opacity\": 0.9, \"size\": 12, \"symbol\": \"circle\"}, \"mode\": \"markers+text\", \"text\": [\"inflammation\", \"hypertrophy\", \"dysfunction\", \"paresthesia\"], \"textposition\": \"bottom center\", \"type\": \"scatter3d\", \"uid\": \"58539b7e-1ca7-4954-8983-3d7712534c87\", \"x\": [7.603746780660003e-05, 3.334069697302766e-05, 3.137896419502795e-05, 6.538569141412154e-05], \"y\": [1.2155987860751338e-05, 0.0001493194286013022, -8.522590360371396e-05, 8.659398736199364e-05], \"z\": [4.432130663190037e-05, -2.063085230474826e-05, -0.0002546618052292615, -7.427575474139303e-05]}],\n",
       "                        {\"title\": {\"text\": \"Meds & Diagnoses\"}},\n",
       "                        {\"showLink\": false, \"linkText\": \"Export to plot.ly\", \"plotlyServerURL\": \"https://plot.ly\", \"responsive\": true}\n",
       "                    ).then(function(){\n",
       "                            \n",
       "var gd = document.getElementById('f98abf14-7cc7-4cb4-82f7-83cd955ee000');\n",
       "var x = new MutationObserver(function (mutations, observer) {{\n",
       "        var display = window.getComputedStyle(gd).display;\n",
       "        if (!display || display === 'none') {{\n",
       "            console.log([gd, 'removed!']);\n",
       "            Plotly.purge(gd);\n",
       "            observer.disconnect();\n",
       "        }}\n",
       "}});\n",
       "\n",
       "// Listen for the removal of the full notebook cells\n",
       "var notebookContainer = gd.closest('#notebook-container');\n",
       "if (notebookContainer) {{\n",
       "    x.observe(notebookContainer, {childList: true});\n",
       "}}\n",
       "\n",
       "// Listen for the clearing of the current output cell\n",
       "var outputEl = gd.closest('.output');\n",
       "if (outputEl) {{\n",
       "    x.observe(outputEl, {childList: true});\n",
       "}}\n",
       "\n",
       "                        })\n",
       "                };\n",
       "                });\n",
       "            </script>\n",
       "        </div>"
      ]
     },
     "metadata": {},
     "output_type": "display_data"
    }
   ],
   "source": [
    "def get_coordinates(model, words):\n",
    "\n",
    "    arr = np.empty((0,200), dtype='f')\n",
    "    for w in words:\n",
    "        wrd_vector = model[w]\n",
    "        arr = np.append(arr, np.array([wrd_vector]), axis=0)\n",
    "\n",
    "    tsne = TSNE(n_components=3, random_state=0, early_exaggeration = 1)\n",
    "    np.set_printoptions(suppress=True)\n",
    "    Y = tsne.fit_transform(arr)\n",
    "    x_coords = Y[:, 0]\n",
    "    y_coords = Y[:, 1]\n",
    "    z_coords = Y[:, 2]\n",
    "    return x_coords, y_coords, z_coords\n",
    "\n",
    "\n",
    "# tomamos drogas y diagnósticos\n",
    "medset = ['pantoprazole', 'atorvastatin', 'albuterol', 'melatonin']\n",
    "diagset = ['inflammation', 'hypertrophy', 'dysfunction', 'paresthesia']\n",
    "\n",
    "x, y, z = get_coordinates(embeddings, medset + diagset)\n",
    "medl = len(medset)\n",
    "\n",
    "plot1 = go.Scatter3d(x=x[:medl],\n",
    "                     y=y[:medl],\n",
    "                     z=z[:medl],\n",
    "                     mode='markers+text',\n",
    "                     text=medset,\n",
    "                     textposition='bottom center',\n",
    "                     hoverinfo='text',\n",
    "                     marker=dict(\n",
    "                         color='rgb(12, 12, 12)',\n",
    "                         size=12,\n",
    "                         symbol='circle',\n",
    "                         line=dict(color='rgba(217, 217, 217, 0.14)',\n",
    "                                   width=1),\n",
    "                         opacity=0.9\n",
    "        ))\n",
    "\n",
    "plot2 = go.Scatter3d(x=x[medl:],\n",
    "                     y=y[medl:],\n",
    "                     z=z[medl:],\n",
    "                     mode='markers+text',\n",
    "                     text=diagset,\n",
    "                     textposition='bottom center',\n",
    "                     hoverinfo='text',\n",
    "                     marker=dict(\n",
    "                         color='rgb(180, 180, 180)',\n",
    "                         size=12,\n",
    "                         symbol='circle',\n",
    "                         line=dict(color='rgba(217, 217, 217, 0.14)',\n",
    "                                   width=1),\n",
    "                         opacity=0.9\n",
    "        ))\n",
    "\n",
    "\n",
    "layout = go.Layout(title='Meds & Diagnoses')\n",
    "fig = go.Figure(data=[plot1, plot2], layout=layout)\n",
    "plt.iplot(fig)"
   ]
  },
  {
   "cell_type": "code",
   "execution_count": null,
   "metadata": {},
   "outputs": [],
   "source": []
  }
 ],
 "metadata": {
  "kernelspec": {
   "display_name": "Python 3",
   "language": "python",
   "name": "python3"
  },
  "language_info": {
   "codemirror_mode": {
    "name": "ipython",
    "version": 3
   },
   "file_extension": ".py",
   "mimetype": "text/x-python",
   "name": "python",
   "nbconvert_exporter": "python",
   "pygments_lexer": "ipython3",
   "version": "3.6.8"
  }
 },
 "nbformat": 4,
 "nbformat_minor": 2
}
